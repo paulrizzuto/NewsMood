{
 "cells": [
  {
   "cell_type": "markdown",
   "metadata": {},
   "source": [
    "# News Mood"
   ]
  },
  {
   "cell_type": "markdown",
   "metadata": {},
   "source": [
    "- Each news sources has moderately negative sentiment at the time of analysis.\n",
    "- The most negative and most positive tweets occurred within the last 20 tweets.\n",
    "- It would seem that a majority of each news sources tweets' were graded with neutral compound sentiment (0)."
   ]
  },
  {
   "cell_type": "code",
   "execution_count": null,
   "metadata": {
    "collapsed": true
   },
   "outputs": [],
   "source": [
    "consumer_key = \"r1CGEJjGlrTmuUILfpJOYboYX\"\n",
    "consumer_secret = \"PaAN0u5xUEB6FW59ZtQw9DHS95WWj1d9jzchbxXFVGQrGpvA4R\"\n",
    "access_token = \"901933530258829312-y9BaHYc1jigRcWrWuGxcs0eYomJMY12\"\n",
    "access_token_secret = \"KCSTd4QoPgiPwtYo0MSo185ACE2vPS5WLOrqnAd3xFsxx\""
   ]
  },
  {
   "cell_type": "code",
   "execution_count": null,
   "metadata": {
    "collapsed": true
   },
   "outputs": [],
   "source": [
    "import tweepy\n",
    "import json\n",
    "import numpy as np\n",
    "import pandas as pd\n",
    "import seaborn\n",
    "import matplotlib.pyplot as plt\n",
    "from vaderSentiment.vaderSentiment import SentimentIntensityAnalyzer\n",
    "analyzer = SentimentIntensityAnalyzer()\n",
    "import time"
   ]
  },
  {
   "cell_type": "code",
   "execution_count": null,
   "metadata": {
    "collapsed": true
   },
   "outputs": [],
   "source": [
    "auth = tweepy.OAuthHandler(consumer_key, consumer_secret)\n",
    "auth.set_access_token(access_token, access_token_secret)\n",
    "api = tweepy.API(auth, parser=tweepy.parsers.JSONParser())"
   ]
  },
  {
   "cell_type": "code",
   "execution_count": null,
   "metadata": {
    "collapsed": true
   },
   "outputs": [],
   "source": [
    "tweet_df = pd.DataFrame(columns = [\"Source Account\", \"Tweet Text\", \"Date\", \"Tweets Ago\", \"Compound Sentiment\", \"Positive Sentiment\", \"Neutral Sentiment\", \"Negative Sentiment\"])"
   ]
  },
  {
   "cell_type": "code",
   "execution_count": null,
   "metadata": {
    "collapsed": true
   },
   "outputs": [],
   "source": [
    "target_user = [\"BBCNews\", \"CBSNews\", \"CNN\", \"FoxNews\", \"nytimes\"]\n",
    "indexcount = 0\n",
    "comp_avg = []"
   ]
  },
  {
   "cell_type": "code",
   "execution_count": null,
   "metadata": {
    "collapsed": true
   },
   "outputs": [],
   "source": [
    "for user in target_user:\n",
    "    public_tweets = api.user_timeline(user, count=100)\n",
    "    tweetnumber = 0\n",
    "    comp_list = []\n",
    "    for tweet in public_tweets:\n",
    "        search = tweet[\"text\"]\n",
    "        tweetdate = tweet[\"created_at\"]\n",
    "        compoundsent = analyzer.polarity_scores(search)[\"compound\"]\n",
    "        comp_list.append(analyzer.polarity_scores(search)[\"compound\"])\n",
    "        positivesent = analyzer.polarity_scores(search)[\"pos\"]\n",
    "        neutralsent = analyzer.polarity_scores(search)[\"neu\"]\n",
    "        negativesent = analyzer.polarity_scores(search)[\"neg\"]\n",
    "        tweet_df.set_value(indexcount, \"Source Account\", user)\n",
    "        tweet_df.set_value(indexcount, \"Tweet Text\", search)\n",
    "        tweet_df.set_value(indexcount, \"Date\", tweetdate)\n",
    "        tweet_df.set_value(indexcount, \"Tweets Ago\", tweetnumber)\n",
    "        tweet_df.set_value(indexcount, \"Compound Sentiment\", compoundsent)            \n",
    "        tweet_df.set_value(indexcount, \"Positive Sentiment\", positivesent)\n",
    "        tweet_df.set_value(indexcount, \"Neutral Sentiment\", neutralsent)\n",
    "        tweet_df.set_value(indexcount, \"Negative Sentiment\", negativesent)\n",
    "        indexcount = indexcount + 1\n",
    "        tweetnumber = tweetnumber + 1\n",
    "    comp_avg.append(np.mean(comp_list))"
   ]
  },
  {
   "cell_type": "code",
   "execution_count": null,
   "metadata": {},
   "outputs": [],
   "source": [
    "comp_avg"
   ]
  },
  {
   "cell_type": "code",
   "execution_count": null,
   "metadata": {},
   "outputs": [],
   "source": [
    "tweet_df"
   ]
  },
  {
   "cell_type": "code",
   "execution_count": null,
   "metadata": {
    "collapsed": true
   },
   "outputs": [],
   "source": [
    "#export to csv for final file\n",
    "tweet_df.to_csv(\"newssen\")"
   ]
  },
  {
   "cell_type": "code",
   "execution_count": null,
   "metadata": {},
   "outputs": [],
   "source": [
    "x_axis = (100, 0, 1)\n",
    "bbcplot = plt.scatter(tweet_df[tweet_df[\"Source Account\"] == \"BBCNews\"][\"Tweets Ago\"], tweet_df[tweet_df[\"Source Account\"] == \"BBCNews\"][\"Compound Sentiment\"], marker=\"o\", c=\"turquoise\", edgecolors=\"black\", linewidth=1 ,s=125, alpha=1, label=\"BBC\")\n",
    "cbsplot = plt.scatter(tweet_df[tweet_df[\"Source Account\"] == \"CBSNews\"][\"Tweets Ago\"], tweet_df[tweet_df[\"Source Account\"] == \"CBSNews\"][\"Compound Sentiment\"], marker=\"o\", facecolors=\"green\", edgecolors=\"black\", linewidth=1, s=125, alpha=1, label=\"CBS\")\n",
    "cnnplot = plt.scatter(tweet_df[tweet_df[\"Source Account\"] == \"CNN\"][\"Tweets Ago\"], tweet_df[tweet_df[\"Source Account\"] == \"CNN\"][\"Compound Sentiment\"], marker=\"o\", facecolors=\"red\", edgecolors=\"black\", linewidth=1,s=125, alpha=1, label=\"CNN\")\n",
    "foxplot = plt.scatter(tweet_df[tweet_df[\"Source Account\"] == \"FoxNews\"][\"Tweets Ago\"], tweet_df[tweet_df[\"Source Account\"] == \"FoxNews\"][\"Compound Sentiment\"], marker=\"o\", facecolors=\"blue\", edgecolors=\"black\", linewidth=1,s=125, alpha=1, label=\"Fox\")\n",
    "nytplot = plt.scatter(tweet_df[tweet_df[\"Source Account\"] == \"nytimes\"][\"Tweets Ago\"], tweet_df[tweet_df[\"Source Account\"] == \"nytimes\"][\"Compound Sentiment\"], marker=\"o\", facecolors=\"yellow\", edgecolors=\"black\", linewidth=1,s=125, alpha=1, label=\"New York Times\")\n",
    "leg = plt.legend(title=\"Media Sources\",fontsize=12, bbox_to_anchor=(1.05, 1), loc=2, borderaxespad=0.)\n",
    "plt.setp(leg.get_title(),fontsize=14)\n",
    "bbox_inches=\"tight\"\n",
    "plt.title(\"Sentiment Analysis of Media Tweets \" + str(time.strftime(\"%x\")), fontsize=16)\n",
    "plt.xlabel(\"Tweets Ago\", fontsize=14)\n",
    "plt.ylabel(\"Tweet Polarity\", fontsize=14)\n",
    "plt.ylim(-1.1, 1.1)\n",
    "plt.xlim(105, -5)\n",
    "plt.savefig(\"newsent1.png\")\n",
    "plt.show()"
   ]
  },
  {
   "cell_type": "code",
   "execution_count": null,
   "metadata": {},
   "outputs": [],
   "source": [
    "#tweet_df.groupby('Source Account')[\"Compound Sentiment\"].mean()\n",
    "tweet_df.info()\n"
   ]
  },
  {
   "cell_type": "code",
   "execution_count": 92,
   "metadata": {},
   "outputs": [
    {
     "data": {
      "text/plain": [
       "(-0.2, 0.05)"
      ]
     },
     "execution_count": 92,
     "metadata": {},
     "output_type": "execute_result"
    }
   ],
   "source": [
    "plt.figure(figsize=(10,7))\n",
    "x_axis2 = np.arange(len(target_user))\n",
    "\n",
    "rect1 = plt.bar(0, comp_avg[0], color='turquoise', alpha=1, align=\"edge\", ec=\"black\", width=1)\n",
    "rect2 = plt.bar(1, comp_avg[1], color='green', alpha=1, align=\"edge\", ec=\"black\", width=1)\n",
    "rect3 = plt.bar(2, comp_avg[2], color='red', alpha=1, align=\"edge\", ec=\"black\", width=1)\n",
    "rect4 = plt.bar(3, comp_avg[3], color='blue', alpha=1, align=\"edge\", ec=\"black\", width=1)\n",
    "rect5 = plt.bar(4, comp_avg[4], color='yellow', alpha=1, align=\"edge\", ec=\"black\", width=1)\n",
    "\n",
    "tick_locations = [value+0.5 for value in x_axis2]\n",
    "plt.grid(linestyle=\"dashed\")\n",
    "plt.xticks(tick_locations, target_user)\n",
    "plt.xlim(0, 5)\n",
    "plt.ylim(-.2, .05)"
   ]
  },
  {
   "cell_type": "code",
   "execution_count": 93,
   "metadata": {},
   "outputs": [
    {
     "data": {
      "text/plain": [
       "<matplotlib.text.Text at 0x11e203d30>"
      ]
     },
     "execution_count": 93,
     "metadata": {},
     "output_type": "execute_result"
    }
   ],
   "source": [
    "plt.title(\"Overall Media Sentiment Based on Twitter \" + str(time.strftime(\"%x\")), fontsize=20)\n",
    "plt.ylabel(\"Tweet Polarity\")"
   ]
  },
  {
   "cell_type": "code",
   "execution_count": 94,
   "metadata": {},
   "outputs": [],
   "source": [
    "def label_negative(rects):\n",
    "    for rect in rects:\n",
    "        height = rect.get_height()\n",
    "        plt.text(rect.get_x() + rect.get_width()/2., (height)-0.01,\n",
    "                '-%.2f' % float(height),\n",
    "                ha='center', va='bottom')\n",
    "\n",
    "\n",
    "label_negative(rect1)\n",
    "label_negative(rect2)\n",
    "label_negative(rect3)\n",
    "label_negative(rect4)\n",
    "label_negative(rect5)"
   ]
  },
  {
   "cell_type": "code",
   "execution_count": 95,
   "metadata": {
    "collapsed": true
   },
   "outputs": [],
   "source": [
    "plt.savefig(\"newsent2.png\")"
   ]
  },
  {
   "cell_type": "code",
   "execution_count": 96,
   "metadata": {},
   "outputs": [
    {
     "data": {
      "image/png": "[encoded data removed]",
      "text/plain": [
       "<matplotlib.figure.Figure at 0x11e55aa20>"
      ]
     },
     "metadata": {},
     "output_type": "display_data"
    }
   ],
   "source": [
    "plt.show()"
   ]
  },
  {
   "cell_type": "code",
   "execution_count": null,
   "metadata": {},
   "outputs": [],
   "source": []
  },
  {
   "cell_type": "code",
   "execution_count": null,
   "metadata": {
    "collapsed": true
   },
   "outputs": [],
   "source": []
  }
 ],
 "metadata": {
  "kernelspec": {
   "display_name": "Python [conda env:PythonData]",
   "language": "python",
   "name": "conda-env-PythonData-py"
  },
  "language_info": {
   "codemirror_mode": {
    "name": "ipython",
    "version": 3
   },
   "file_extension": ".py",
   "mimetype": "text/x-python",
   "name": "python",
   "nbconvert_exporter": "python",
   "pygments_lexer": "ipython3",
   "version": "3.6.1"
  }
 },
 "nbformat": 4,
 "nbformat_minor": 2
}
